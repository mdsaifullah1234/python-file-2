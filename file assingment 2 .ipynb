{
 "cells": [
  {
   "cell_type": "markdown",
   "metadata": {},
   "source": [
    "Q1. Explain why we have to use the Exception class while creating a Custom Exception."
   ]
  },
  {
   "cell_type": "markdown",
   "metadata": {},
   "source": [
    "Answer = In Python, when creating a custom exception, it is essential to inherit from the base Exception class or one of its subclasses. This is because the Exception class is a part of Python's built-in exception hierarchy, and it provides several important features and benefits:\n",
    "\n",
    "Consistency and Compatibility: Inheriting from the Exception class ensures that your custom exception is compatible with the existing exception handling mechanisms in Python. This means it can be caught and handled using standard try and except blocks just like built-in exceptions.\n",
    "\n",
    "Standard Exception Attributes and Methods: The Exception class comes with standard attributes and methods that are helpful for error handling. For example, it includes the __str__ method, which allows you to provide a custom error message when the exception is raised.\n",
    "\n",
    "Exception Hierarchy: Python's exception hierarchy allows for more specific exceptions to inherit from broader ones. This hierarchy enables you to catch exceptions at different levels of specificity, making it easier to handle various exceptional situations in your code.\n",
    "\n",
    "Clarity and Convention: By inheriting from the Exception class, you follow a well-established convention in Python. Other developers who read your code will easily understand that your custom exception is meant to be used for error handling."
   ]
  },
  {
   "cell_type": "code",
   "execution_count": 1,
   "metadata": {},
   "outputs": [
    {
     "name": "stdout",
     "output_type": "stream",
     "text": [
      "Custom Exception: This is a custom exception.\n"
     ]
    }
   ],
   "source": [
    "class MyCustomError(Exception):\n",
    "    def __init__(self, message):\n",
    "        super().__init__(message)\n",
    "\n",
    "try:\n",
    "    raise MyCustomError(\"This is a custom exception.\")\n",
    "except MyCustomError as e:\n",
    "    print(f\"Custom Exception: {e}\")\n"
   ]
  },
  {
   "cell_type": "markdown",
   "metadata": {},
   "source": [
    "Q2. Write a python program to print Python Exception Hierarchy."
   ]
  },
  {
   "cell_type": "markdown",
   "metadata": {},
   "source": [
    "To print the Python Exception Hierarchy, you can use the pydoc module, which provides access to Python's documentation and allows you to display information about classes, including exception classes. Here's a Python program to print the exception hierarchy:"
   ]
  },
  {
   "cell_type": "code",
   "execution_count": 2,
   "metadata": {},
   "outputs": [
    {
     "name": "stdout",
     "output_type": "stream",
     "text": [
      "Exception Hierarchy:\n",
      "BaseException\n",
      "  object\n"
     ]
    }
   ],
   "source": [
    "import pydoc\n",
    "\n",
    "def print_exception_hierarchy(exception_class, indent=0):\n",
    "    # Print the class name with indentation\n",
    "    print(\" \" * indent + exception_class.__name__)\n",
    "\n",
    "    # Get the base classes of the exception\n",
    "    base_classes = exception_class.__bases__\n",
    "\n",
    "    # Recursively print the hierarchy for each base class\n",
    "    for base_class in base_classes:\n",
    "        print_exception_hierarchy(base_class, indent + 2)\n",
    "\n",
    "# Start with the base 'BaseException' class\n",
    "print(\"Exception Hierarchy:\")\n",
    "print_exception_hierarchy(BaseException)\n"
   ]
  },
  {
   "cell_type": "markdown",
   "metadata": {},
   "source": [
    "This program defines a function print_exception_hierarchy that takes an exception class and recursively prints its hierarchy. It starts with the base class BaseException and then prints each class and its base classes with an increasing level of indentation."
   ]
  },
  {
   "cell_type": "markdown",
   "metadata": {},
   "source": [
    "Q3. What errors are defined in the ArithmeticError class? Explain any two with an example."
   ]
  },
  {
   "cell_type": "markdown",
   "metadata": {},
   "source": [
    "Answer = The ArithmeticError class is a base class for exceptions related to arithmetic operations in Python. It serves as the parent class for several more specific exceptions, two of which are ZeroDivisionError and OverflowError. I'll explain these two errors and provide examples for each:\n",
    "\n",
    "ZeroDivisionError:\n",
    "\n",
    "ZeroDivisionError is raised when you attempt to divide a number by zero, which is mathematically undefined.\n",
    "It occurs when the denominator (the number you're dividing by) is zero.\n",
    "Example:"
   ]
  },
  {
   "cell_type": "code",
   "execution_count": 3,
   "metadata": {},
   "outputs": [
    {
     "name": "stdout",
     "output_type": "stream",
     "text": [
      "Error: division by zero\n"
     ]
    }
   ],
   "source": [
    "try:\n",
    "    result = 10 / 0  # This line raises ZeroDivisionError\n",
    "except ZeroDivisionError as e:\n",
    "    print(f\"Error: {e}\")\n"
   ]
  },
  {
   "cell_type": "markdown",
   "metadata": {},
   "source": [
    "OverflowError:\n",
    "\n",
    "OverflowError is raised when a mathematical operation exceeds the maximum representable value for a numeric type.\n",
    "It typically occurs when the result of an operation is too large to be stored in the available memory."
   ]
  },
  {
   "cell_type": "code",
   "execution_count": 4,
   "metadata": {},
   "outputs": [],
   "source": [
    "import sys\n",
    "\n",
    "try:\n",
    "    large_number = sys.maxsize + 1  # This line raises OverflowError\n",
    "except OverflowError as e:\n",
    "    print(f\"Error: {e}\")\n"
   ]
  },
  {
   "cell_type": "markdown",
   "metadata": {},
   "source": [
    "These examples illustrate how ZeroDivisionError and OverflowError are specific types of exceptions that inherit from the ArithmeticError class. They are raised in response to particular arithmetic operations that result in errors.\n"
   ]
  },
  {
   "cell_type": "markdown",
   "metadata": {},
   "source": [
    "Q4. Why LookupError class is used? Explain with an example KeyError and IndexError."
   ]
  },
  {
   "cell_type": "markdown",
   "metadata": {},
   "source": [
    "The LookupError class is a base class for exceptions related to lookup or indexing operations in Python. It serves as the parent class for exceptions like KeyError and IndexError. Here's an explanation of LookupError and examples of KeyError and IndexError:\n",
    "\n",
    "LookupError:\n",
    "\n",
    "LookupError is a base class for exceptions related to lookup operations, which include accessing elements or keys in collections like lists, dictionaries, and sequences.\n",
    "It's used to handle errors that occur when you try to look up a value that doesn't exist or when you use an invalid index or key.\n",
    "KeyError:\n",
    "\n",
    "KeyError is raised when you try to access a dictionary key that doesn't exist.\n",
    "It occurs when you try to retrieve the value associated with a key that is not present in the dictionary.\n",
    "Example (KeyError):"
   ]
  },
  {
   "cell_type": "code",
   "execution_count": 5,
   "metadata": {},
   "outputs": [
    {
     "name": "stdout",
     "output_type": "stream",
     "text": [
      "Error: 'x'\n"
     ]
    }
   ],
   "source": [
    "my_dict = {\"a\": 1, \"b\": 2, \"c\": 3}\n",
    "\n",
    "try:\n",
    "    value = my_dict[\"x\"]  # This line raises KeyError\n",
    "except KeyError as e:\n",
    "    print(f\"Error: {e}\")\n"
   ]
  },
  {
   "cell_type": "markdown",
   "metadata": {},
   "source": [
    "In this example, we attempt to access the key \"x\" in the dictionary my_dict, which doesn't exist. This raises a KeyError, and the program prints \"Error: 'x'.\"\n",
    "\n",
    "IndexError:\n",
    "\n",
    "IndexError is raised when you try to access a sequence (e.g., a list) using an index that is out of range.\n",
    "It occurs when you use an index that is greater than or equal to the length of the sequence.\n",
    "Example (IndexError):"
   ]
  },
  {
   "cell_type": "code",
   "execution_count": 6,
   "metadata": {},
   "outputs": [
    {
     "name": "stdout",
     "output_type": "stream",
     "text": [
      "Error: list index out of range\n"
     ]
    }
   ],
   "source": [
    "my_list = [10, 20, 30]\n",
    "\n",
    "try:\n",
    "    value = my_list[3]  # This line raises IndexError\n",
    "except IndexError as e:\n",
    "    print(f\"Error: {e}\")\n"
   ]
  },
  {
   "cell_type": "markdown",
   "metadata": {},
   "source": [
    "In this example, we attempt to access the element at index 3 in the list my_list, but since the list has only three elements (indexed from 0 to 2), it raises an IndexError, and the program prints \"Error: list index out of range.\"\n",
    "\n",
    "These examples show how LookupError, along with its derived exceptions like KeyError and IndexError, is used to handle errors related to lookup and indexing operations, helping you catch and handle such situations gracefully in your code."
   ]
  },
  {
   "cell_type": "markdown",
   "metadata": {},
   "source": [
    "Q5. Explain ImportError. What is ModuleNotFoundError?"
   ]
  },
  {
   "cell_type": "markdown",
   "metadata": {},
   "source": [
    "ANSWE = ImportError and ModuleNotFoundError\n",
    "\n",
    "ImportError:\n",
    "\n",
    "Raised when an import statement fails.\n",
    "Occurs when Python cannot find or load a module.\n",
    "May result from misspelled module names, incorrect file paths, or issues with the imported module.\n",
    "A broad exception for various import-related errors.\n",
    "Not specific about the reason for the failure.\n",
    "ModuleNotFoundError (Python 3.6+):\n",
    "\n",
    "A specific subclass of ImportError.\n",
    "Raised when the Python interpreter cannot locate the specified module.\n",
    "Offers more precise information about the missing module.\n",
    "Helpful for diagnosing issues such as module name typos or missing module installations.\n",
    "Introduced to improve error reporting in import statements."
   ]
  },
  {
   "cell_type": "code",
   "execution_count": 7,
   "metadata": {},
   "outputs": [
    {
     "name": "stdout",
     "output_type": "stream",
     "text": [
      "ModuleNotFoundError: No module named 'non_existent_module'\n"
     ]
    }
   ],
   "source": [
    "try:\n",
    "    import non_existent_module  # This line raises ImportError (specifically ModuleNotFoundError in Python 3.6+)\n",
    "except ModuleNotFoundError as e:\n",
    "    print(f\"ModuleNotFoundError: {e}\")\n",
    "except ImportError as e:\n",
    "    print(f\"ImportError: {e}\")\n"
   ]
  },
  {
   "cell_type": "markdown",
   "metadata": {},
   "source": [
    "Q6. List down some best practices for exception handling in python."
   ]
  },
  {
   "cell_type": "markdown",
   "metadata": {},
   "source": [
    "ANSWER = Be Specific in Exception Handling:\n",
    "\n",
    "Use specific exception classes when possible to catch and handle only the expected exceptions.\n",
    "Avoid using broad exception classes like Exception for catching errors unless it's necessary.\n",
    "Use Multiple Except Blocks:\n",
    "\n",
    "Use multiple except blocks to handle different exceptions separately, allowing for specific error handling for each case.\n",
    "Avoid Bare Excepts:\n",
    "\n",
    "Avoid using a bare except statement, as it can catch and hide unexpected exceptions, making debugging difficult.\n",
    "Try to Handle Exceptions Locally:\n",
    "\n",
    "Handle exceptions as close to their occurrence as possible, rather than letting them propagate up the call stack.\n",
    "Use else for Clean-Up Code:\n",
    "\n",
    "Use the else block to execute code that should run when no exceptions occur within the try block. For example, cleanup or finalization steps.\n",
    "Use finally for Cleanup:\n",
    "\n",
    "Use the finally block to ensure that cleanup code (e.g., closing files or resources) is always executed, regardless of whether an exception occurred.\n",
    "Avoid Overusing Exceptions for Flow Control:\n",
    "\n",
    "Exceptions should not be used as a primary means of controlling program flow. They are meant for handling exceptional conditions, not for regular program logic.\n",
    "Provide Clear Error Messages:\n",
    "\n",
    "Include informative error messages in exception handling code. Make it easier to diagnose and fix issues by providing useful information about the error.\n",
    "Log Exceptions:\n",
    "\n",
    "Use Python's logging framework or another logging library to log exceptions and their details. This aids in debugging and monitoring.\n",
    "Consider Custom Exceptions:\n",
    "\n",
    "Create custom exceptions when necessary to handle specific errors or exceptional conditions in your code. This improves code organization and readability.\n",
    "Reraise When Necessary:\n",
    "\n",
    "If you catch an exception but cannot handle it, consider re-raising it using raise to propagate it up the call stack. This allows higher-level code to handle it appropriately.\n",
    "Keep It Simple:\n",
    "\n",
    "Keep your exception handling code as simple as possible. Complex exception handling logic can make code harder to understand and maintain.\n",
    "Test Exception Handling:\n",
    "\n",
    "Include unit tests for exception handling scenarios to ensure your code behaves as expected when exceptions occur.\n",
    "Document Exception Handling:\n",
    "\n",
    "Add comments or documentation explaining the purpose and expected behavior of your exception handling code. This helps other developers understand your intentions.\n"
   ]
  }
 ],
 "metadata": {
  "kernelspec": {
   "display_name": "Python 3",
   "language": "python",
   "name": "python3"
  },
  "language_info": {
   "codemirror_mode": {
    "name": "ipython",
    "version": 3
   },
   "file_extension": ".py",
   "mimetype": "text/x-python",
   "name": "python",
   "nbconvert_exporter": "python",
   "pygments_lexer": "ipython3",
   "version": "3.8.10"
  }
 },
 "nbformat": 4,
 "nbformat_minor": 2
}
